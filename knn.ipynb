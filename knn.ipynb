{
 "cells": [
  {
   "cell_type": "markdown",
   "source": [
    "# KNN classifier"
   ],
   "metadata": {
    "collapsed": false
   },
   "id": "1fe2820027f71f0c"
  },
  {
   "cell_type": "code",
   "execution_count": null,
   "id": "initial_id",
   "metadata": {
    "collapsed": true
   },
   "outputs": [],
   "source": [
    "import pandas as pd\n",
    "from sklearn.preprocessing import MinMaxScaler"
   ]
  },
  {
   "cell_type": "code",
   "execution_count": null,
   "outputs": [],
   "source": [
    "df = pd.read_csv('dataset.csv')\n",
    "train_df = pd.read_csv('train.csv')\n",
    "test_df = pd.read_csv('test.csv')\n",
    "validation_df = pd.read_csv('validation.csv')"
   ],
   "metadata": {
    "collapsed": false
   },
   "id": "98ee5280c4596970"
  },
  {
   "cell_type": "markdown",
   "source": [
    "## Split the features and the target column and normalize the data"
   ],
   "metadata": {
    "collapsed": false
   },
   "id": "d9a10e192d19144f"
  },
  {
   "cell_type": "code",
   "execution_count": null,
   "outputs": [],
   "source": [
    "scaler = MinMaxScaler()\n",
    "\n",
    "# full dataset\n",
    "X = scaler.fit_transform(df.drop('Class', axis=1))\n",
    "y = df['Class']\n",
    "\n",
    "# splits\n",
    "X_train = scaler.fit_transform(train_df.drop('Class', axis=1))\n",
    "y_train = train_df['Class']\n",
    "X_validation = scaler.fit_transform(validation_df.drop('Class', axis=1))\n",
    "y_validation = validation_df['Class']\n",
    "X_test = scaler.fit_transform(test_df.drop('Class', axis=1))\n",
    "y_test = test_df['Class']"
   ],
   "metadata": {
    "collapsed": false
   },
   "id": "f159e6fd7d5007a3"
  },
  {
   "cell_type": "markdown",
   "source": [
    "## Train the model"
   ],
   "metadata": {
    "collapsed": false
   },
   "id": "9b21b1262ea73d88"
  },
  {
   "cell_type": "code",
   "execution_count": null,
   "outputs": [],
   "source": [
    "from sklearn.metrics import confusion_matrix, accuracy_score, roc_auc_score, precision_score, recall_score, f1_score\n",
    "\n",
    "\n",
    "def get_result_stats(clf, X, y) -> None:\n",
    "    y_pred = clf.predict(X)\n",
    "    y_prob = clf.predict_proba(X)\n",
    "\n",
    "    conf_matrix = confusion_matrix(y, y_pred, labels=[\"Kecimen\", \"Besni\"])\n",
    "    print(\"Confusion Matrix:\\n\", conf_matrix)\n",
    "\n",
    "    acc = accuracy_score(y, y_pred)\n",
    "    auc_score = roc_auc_score(y, y_prob)\n",
    "    print(f\"Accuracy: {acc:.3f}, AUC: {auc_score:.3f}\")\n",
    "\n",
    "    precision = precision_score(y, y_pred, pos_label=\"Kecimen\")\n",
    "    print(f\"Precision: {precision:.3f}\")\n",
    "\n",
    "    recall = recall_score(y, y_pred, pos_label=\"Kecimen\")\n",
    "    print(f\"Recall: {recall:.3f}\")\n",
    "\n",
    "    f1 = f1_score(y, y_pred, pos_label=\"Kecimen\")\n",
    "    print(f\"F1 Score: {f1:.3f}\")"
   ],
   "metadata": {
    "collapsed": false
   },
   "id": "e369b924b2bf7495"
  },
  {
   "cell_type": "code",
   "execution_count": null,
   "outputs": [],
   "source": [
    "from sklearn.neighbors import KNeighborsClassifier\n",
    "from sklearn.metrics import accuracy_score\n",
    "import matplotlib.pyplot as plt\n",
    "\n",
    "k_values = range(1, 100)\n",
    "validation_scores = []\n",
    "auc_scores = []\n",
    "for k in k_values:\n",
    "    knn = KNeighborsClassifier(n_neighbors=k)\n",
    "    knn.fit(X_train, y_train)\n",
    "    y_pred = knn.predict(X_validation)\n",
    "    y_pred_prob = knn.predict_proba(X_validation)[:, 1]\n",
    "\n",
    "    accuracy = accuracy_score(y_validation, y_pred)\n",
    "    auc = roc_auc_score(y_validation, y_pred_prob)\n",
    "\n",
    "    validation_scores.append(accuracy)\n",
    "    auc_scores.append(auc)\n",
    "\n",
    "plt.figure(figsize=(12, 12))\n",
    "\n",
    "plt.subplot(2, 1, 1)\n",
    "plt.plot(k_values, validation_scores, label='Accuracy')\n",
    "plt.xlabel('Value of K for KNN')\n",
    "plt.ylabel('Validation Accuracy')\n",
    "plt.title('KNN Accuracy')\n",
    "\n",
    "plt.subplot(2, 1, 2)\n",
    "plt.plot(k_values, auc_scores, label='AUC', color='red')\n",
    "plt.xlabel('Value of K for KNN')\n",
    "plt.ylabel('AUC Score')\n",
    "plt.title('KNN AUC Score')\n",
    "\n",
    "plt.tight_layout()\n",
    "plt.show()"
   ],
   "metadata": {
    "collapsed": false
   },
   "id": "fe1ce0424b1b3b33"
  },
  {
   "cell_type": "code",
   "execution_count": null,
   "outputs": [],
   "source": [
    "import umap\n",
    "\n",
    "reducer = umap.UMAP(n_neighbors=5, min_dist=0.3, metric='euclidean')  # Adjust these parameters as needed\n",
    "X_train_umap = reducer.fit_transform(X_train)\n",
    "X_test_umap = reducer.transform(X_test)"
   ],
   "metadata": {
    "collapsed": false
   },
   "id": "807668de3819a198"
  },
  {
   "cell_type": "code",
   "execution_count": null,
   "outputs": [],
   "source": [
    "import matplotlib.pyplot as plt\n",
    "from sklearn.inspection import DecisionBoundaryDisplay\n",
    "from sklearn.neighbors import KNeighborsClassifier\n",
    "\n",
    "_, axs = plt.subplots(ncols=2, figsize=(12, 5))\n",
    "\n",
    "label_mapping = {'Kecimen': 0, 'Besni': 1}\n",
    "y_train_numeric = y_train.map(label_mapping)\n",
    "y_test_numeric = y_test.map(label_mapping)\n",
    "\n",
    "for ax, weights in zip(axs, (\"uniform\", \"distance\")):\n",
    "    clf = KNeighborsClassifier(n_neighbors=8, weights=weights)\n",
    "    clf.fit(X_train_umap, y_train_numeric)\n",
    "\n",
    "    disp = DecisionBoundaryDisplay.from_estimator(\n",
    "        clf,\n",
    "        X_test_umap,\n",
    "        response_method=\"predict\",\n",
    "        plot_method=\"pcolormesh\",\n",
    "        shading=\"auto\",\n",
    "        alpha=0.5,\n",
    "        ax=ax,\n",
    "    )\n",
    "    scatter = disp.ax_.scatter(X_test_umap[:, 0], X_test_umap[:, 1], c=y_test_numeric, edgecolors=\"k\")\n",
    "    # Update the class names in the legend if necessary\n",
    "    disp.ax_.legend(*scatter.legend_elements(), title=\"Classes\")\n",
    "    disp.ax_.set_title(f\"Decision Boundary (k={8}, weights={weights})\")\n",
    "\n",
    "plt.show()\n"
   ],
   "metadata": {
    "collapsed": false
   },
   "id": "84359f8743170c3b"
  }
 ],
 "metadata": {
  "kernelspec": {
   "display_name": "Python 3",
   "language": "python",
   "name": "python3"
  },
  "language_info": {
   "codemirror_mode": {
    "name": "ipython",
    "version": 2
   },
   "file_extension": ".py",
   "mimetype": "text/x-python",
   "name": "python",
   "nbconvert_exporter": "python",
   "pygments_lexer": "ipython2",
   "version": "2.7.6"
  }
 },
 "nbformat": 4,
 "nbformat_minor": 5
}
